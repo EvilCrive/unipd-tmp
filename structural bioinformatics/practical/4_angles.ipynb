{
  "nbformat": 4,
  "nbformat_minor": 0,
  "metadata": {
    "colab": {
      "name": "angles.ipynb",
      "provenance": []
    },
    "kernelspec": {
      "name": "python3",
      "display_name": "Python 3"
    },
    "language_info": {
      "name": "python"
    }
  },
  "cells": [
    {
      "cell_type": "code",
      "execution_count": null,
      "metadata": {
        "colab": {
          "base_uri": "https://localhost:8080/"
        },
        "id": "QWt0IoP99PQj",
        "outputId": "1126ba1f-1067-449c-f87a-e69dbce3af10"
      },
      "outputs": [
        {
          "output_type": "stream",
          "name": "stdout",
          "text": [
            "Drive already mounted at /content/drive/; to attempt to forcibly remount, call drive.mount(\"/content/drive/\", force_remount=True).\n"
          ]
        }
      ],
      "source": [
        "from google.colab import drive\n",
        "drive.mount('/content/drive/')"
      ]
    },
    {
      "cell_type": "code",
      "source": [
        "#Set path\n",
        "path = 'drive/MyDrive/SB_practical_notebooks/data/'\n",
        "#path = 'drive/MyDrive/data/'"
      ],
      "metadata": {
        "id": "PlxyPbXlDUvl"
      },
      "execution_count": null,
      "outputs": []
    },
    {
      "cell_type": "code",
      "source": [
        "!pip install scipy\n",
        "!pip install matplotlib\n",
        "!pip install biopython"
      ],
      "metadata": {
        "colab": {
          "base_uri": "https://localhost:8080/"
        },
        "id": "3YTgK5Kd_f3k",
        "outputId": "6d533b72-2b3c-46f9-9f5f-4b66ba510e60"
      },
      "execution_count": null,
      "outputs": [
        {
          "output_type": "stream",
          "name": "stdout",
          "text": [
            "Requirement already satisfied: scipy in /usr/local/lib/python3.7/dist-packages (1.4.1)\n",
            "Requirement already satisfied: numpy>=1.13.3 in /usr/local/lib/python3.7/dist-packages (from scipy) (1.21.5)\n",
            "Requirement already satisfied: matplotlib in /usr/local/lib/python3.7/dist-packages (3.2.2)\n",
            "Requirement already satisfied: cycler>=0.10 in /usr/local/lib/python3.7/dist-packages (from matplotlib) (0.11.0)\n",
            "Requirement already satisfied: kiwisolver>=1.0.1 in /usr/local/lib/python3.7/dist-packages (from matplotlib) (1.4.0)\n",
            "Requirement already satisfied: numpy>=1.11 in /usr/local/lib/python3.7/dist-packages (from matplotlib) (1.21.5)\n",
            "Requirement already satisfied: python-dateutil>=2.1 in /usr/local/lib/python3.7/dist-packages (from matplotlib) (2.8.2)\n",
            "Requirement already satisfied: pyparsing!=2.0.4,!=2.1.2,!=2.1.6,>=2.0.1 in /usr/local/lib/python3.7/dist-packages (from matplotlib) (3.0.7)\n",
            "Requirement already satisfied: typing-extensions in /usr/local/lib/python3.7/dist-packages (from kiwisolver>=1.0.1->matplotlib) (3.10.0.2)\n",
            "Requirement already satisfied: six>=1.5 in /usr/local/lib/python3.7/dist-packages (from python-dateutil>=2.1->matplotlib) (1.15.0)\n",
            "Requirement already satisfied: biopython in /usr/local/lib/python3.7/dist-packages (1.79)\n",
            "Requirement already satisfied: numpy in /usr/local/lib/python3.7/dist-packages (from biopython) (1.21.5)\n"
          ]
        }
      ]
    },
    {
      "cell_type": "code",
      "source": [
        "\"\"\"\n",
        "Polipeptide chain - residue number - main chain atom - dihedral angle\n",
        "        :\n",
        "     - N    R     > 3 N            PSI   PHI  PSI\n",
        "        \\\n",
        "         C - O    > 2 C       PHI  PSI   PHI\n",
        "     \\  /\n",
        "      CA          > 2 CA      PHI  PSI\n",
        "     /  \\\n",
        "    R    N -      > 2 N  PSI  PHI  PSI\n",
        "        /\n",
        "   O - C          > 1 C  PSI  PHI\n",
        "        \\  /\n",
        "         CA       > 1 CA PSI\n",
        "        /  \\\n",
        "       N    R     > 1 N  PSI\n",
        "\"\"\"\n",
        "\n",
        "from Bio.PDB import PDBList, calc_angle, calc_dihedral, PPBuilder, is_aa\n",
        "from Bio.PDB.PDBParser import PDBParser\n",
        "\n",
        "import math\n",
        "import matplotlib.pyplot as plt\n",
        "import matplotlib.colors as mplcolors\n",
        "import numpy as np"
      ],
      "metadata": {
        "id": "-dznZA2CL6zq"
      },
      "execution_count": null,
      "outputs": []
    },
    {
      "cell_type": "code",
      "source": [
        "pdb_id = '1cu4'\n",
        "\n",
        "# Fetch a PDB file to the current dir\n",
        "pdbl = PDBList()\n",
        "pdbl.retrieve_pdb_file(pdb_id, pdir=path, file_format='pdb')\n",
        "\n",
        "# Load the structure\n",
        "structure = PDBParser(QUIET=True).get_structure(pdb_id, path + \"pdb{}.ent\".format(pdb_id))\n"
      ],
      "metadata": {
        "colab": {
          "base_uri": "https://localhost:8080/"
        },
        "id": "XG8BRUd-MPsJ",
        "outputId": "79a75af2-27d4-40da-c454-9d8e4ea6b067"
      },
      "execution_count": null,
      "outputs": [
        {
          "output_type": "stream",
          "name": "stdout",
          "text": [
            "Structure exists: 'drive/MyDrive/SB_practical_notebooks/data/pdb1cu4.ent' \n"
          ]
        }
      ]
    },
    {
      "cell_type": "code",
      "source": [
        "# Measure distance, angle, dihedral\n",
        "atom1 = structure[0]['L'][52]['C']\n",
        "atom2 = structure[0]['L'][53]['N']\n",
        "atom3 = structure[0]['L'][53]['CA']\n",
        "atom4 = structure[0]['L'][53]['C']\n",
        "\n",
        "print(\"Distance {} - {} --> {} \\u212B\".format(atom1.full_id, atom4.full_id, atom1 - atom4))\n",
        "print(\"Angle\", math.degrees(calc_angle(atom1.get_vector(), atom2.get_vector(), atom3.get_vector())))\n",
        "print(\"Angle radians\", calc_angle(atom1.get_vector(), atom2.get_vector(), atom3.get_vector()))\n",
        "print(\"Dihedral (PHI)\", math.degrees(calc_dihedral(atom1.get_vector(), atom2.get_vector(), atom3.get_vector(), atom4.get_vector())))\n",
        "\n"
      ],
      "metadata": {
        "colab": {
          "base_uri": "https://localhost:8080/"
        },
        "id": "xbI9m7WGMHE1",
        "outputId": "bb462f1f-dbde-41d9-d9d5-8d2b2097aabb"
      },
      "execution_count": null,
      "outputs": [
        {
          "output_type": "stream",
          "name": "stdout",
          "text": [
            "Distance ('1cu4', 0, 'L', (' ', 52, ' '), ('C', ' ')) - ('1cu4', 0, 'L', (' ', 53, ' '), ('C', ' ')) --> 3.0374350547790527 Å\n",
            "Angle 120.3151476548105\n",
            "Angle radians 2.0998954665995773\n",
            "Dihedral (PHI) -73.04776417166285\n"
          ]
        }
      ]
    },
    {
      "cell_type": "code",
      "source": [
        "# Build the peptides (reveal structure holes) and print sequences\n",
        "print(\"Peptides\")\n",
        "ppb = PPBuilder()  # PolyPeptideBuilder\n",
        "for model in structure:\n",
        "    for chain in model:\n",
        "        print(chain.id, len([residue for residue in chain if is_aa(residue)]))\n",
        "        for pp in ppb.build_peptides(chain):\n",
        "            print(len(pp), pp.get_sequence())\n"
      ],
      "metadata": {
        "colab": {
          "base_uri": "https://localhost:8080/"
        },
        "id": "G8rMJVf0MXiU",
        "outputId": "2c7a472b-d307-4897-f403-fa3fd48d74a2"
      },
      "execution_count": null,
      "outputs": [
        {
          "output_type": "stream",
          "name": "stdout",
          "text": [
            "Peptides\n",
            "L 219\n",
            "219 DVVMTQTPLSLSVTIGQPASISCKSSQSLLDSDGKTYLIWVFQRPGQSPKRLIFLVSKRDSGVPDRFTGSGSGTDFTLKISRVEAEDVGVYYCWQGTHFPHTVGGGTKLEIARADAAPTVSIFPPSSEQLTSGGASVVCFLNNFYPKDINVKWKIDGSERQNGVLNSWTDQDSKDSTYSMSSTLTLTKDEYERHNSYTCEATHKTSTSPIVKSFNRNEC\n",
            "H 215\n",
            "215 KLQQSGAELVRSGASVKLSCTASGFNIKDYYIQWVKQRPEQGLEWIGWIDPENGNSEYAPRFQGKATMTADTLSNTAYLQLSSLTSEDTAVYYCNADLHDYWGQGTTLTVSSAKTTAPSVYPLAPVCGDTTGSSVTLGCLVKGYFPEPVTLTWNSGSLSSGVHTFPAVLQSDLYTLSSSVTVTSSTWPSQSITCNVAHPASSTKVDKKIEPRVTS\n",
            "P 10\n",
            "10 APKTNMKHMA\n"
          ]
        }
      ]
    },
    {
      "cell_type": "code",
      "source": [
        "# Calculate PSI and PHI\n",
        "rama = {}  # { chain : [[residue_1, ...], [phi_residue_1, ...], [psi_residue_2, ...] ] }\n",
        "for model in structure:\n",
        "    for chain in model:\n",
        "        for pp in ppb.build_peptides(chain):\n",
        "\n",
        "            phi_psi = pp.get_phi_psi_list()  # [(phi_residue_1, psi_residue_1), ...]\n",
        "            for i, residue in enumerate(pp):\n",
        "               # print(model, chain, i, residue, phi_psi[i])\n",
        "\n",
        "                # Convert radians to degrees and remove first and last value that are None\n",
        "                if phi_psi[i][0] is not None and phi_psi[i][1] is not None:\n",
        "                    rama.setdefault(chain.id, [[], [], []])\n",
        "                    rama[chain.id][0].append(residue)\n",
        "                    rama[chain.id][1].append(math.degrees(phi_psi[i][0]))\n",
        "                    rama[chain.id][2].append(math.degrees(phi_psi[i][1]))\n"
      ],
      "metadata": {
        "id": "4M4YatajNH1j"
      },
      "execution_count": null,
      "outputs": []
    },
    {
      "cell_type": "code",
      "source": [
        "# Ramachandran regions\n",
        "# 2 = 90%, 1 = 60%\n",
        "regions_matrix = []\n",
        "with open(path + \"ramachandran.dat\") as f:\n",
        "    for line in f:\n",
        "        if line:\n",
        "            regions_matrix.append([int(ele) for ele in line.strip().split()])\n",
        "\n",
        "# Plot Ramachandran regions\n",
        "cmap = mplcolors.ListedColormap(['#FFFFFF', '#B3E8FF', '#7FD9FF'])\n",
        "\n",
        "f, axes = plt.subplots(1, len(rama), figsize=(12, 12))\n",
        "axes = np.array(axes).reshape(-1)  # Hack to give consistency for single/multiple suplots (-1 force reshape to infer dimensions)\n",
        "for ax, chain_id in zip(axes, rama):\n",
        "\n",
        "    # Plot regions (60 percentile & 90 percentile)\n",
        "    im = ax.imshow(regions_matrix, cmap=cmap, extent=(-180, 180, -180, 180))\n",
        "\n",
        "    # Plot points\n",
        "    ax.scatter(rama[chain_id][1], rama[chain_id][2], s=3, alpha=0.5)\n",
        "\n",
        "    ax.set_xlabel('phi')\n",
        "    ax.set_ylabel('psi')\n",
        "\n",
        "plt.tight_layout()  # Remove figure padding\n",
        "plt.savefig(path +'ramachandran_regions.png', bbox_inches='tight')"
      ],
      "metadata": {
        "id": "CBDXH4j2Nmxv",
        "colab": {
          "base_uri": "https://localhost:8080/",
          "height": 287
        },
        "outputId": "4a74e51f-b43b-43d0-9699-f328d951a149"
      },
      "execution_count": null,
      "outputs": [
        {
          "output_type": "display_data",
          "data": {
            "text/plain": [
              "<Figure size 864x864 with 3 Axes>"
            ],
            "image/png": "[encoded data removed]"
          },
          "metadata": {
            "needs_background": "light"
          }
        }
      ]
    },
    {
      "cell_type": "markdown",
      "source": [
        "#Exercises\n",
        "\n",
        "* Compare the Ramachandran plot with DynoPlot plugin https://raw.githubusercontent.com/Pymol-Scripts/Pymol-script-repo/master/plugins/dynoplot.py\n",
        "\n",
        "* Calculate how many points are outside high confidence regions for the PDB 1az5 and how many are in the middle confidence range\n"
      ],
      "metadata": {
        "id": "KRN0lOpINosh"
      }
    }
  ]
}