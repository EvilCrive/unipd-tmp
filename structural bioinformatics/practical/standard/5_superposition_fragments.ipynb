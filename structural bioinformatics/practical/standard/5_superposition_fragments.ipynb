{
  "nbformat": 4,
  "nbformat_minor": 0,
  "metadata": {
    "colab": {
      "name": "superposition_fragments.ipynb",
      "provenance": []
    },
    "kernelspec": {
      "name": "python3",
      "display_name": "Python 3"
    },
    "language_info": {
      "name": "python"
    }
  },
  "cells": [
    {
      "cell_type": "code",
      "execution_count": null,
      "metadata": {
        "colab": {
          "base_uri": "https://localhost:8080/"
        },
        "id": "jBRzgGnFUdDo",
        "outputId": "e3d26cdc-098c-4040-d4da-be41599e299d"
      },
      "outputs": [
        {
          "output_type": "stream",
          "name": "stdout",
          "text": [
            "Drive already mounted at /content/drive/; to attempt to forcibly remount, call drive.mount(\"/content/drive/\", force_remount=True).\n"
          ]
        }
      ],
      "source": [
        "from google.colab import drive\n",
        "drive.mount('/content/drive/')"
      ]
    },
    {
      "cell_type": "code",
      "source": [
        "#Set path\n",
        "path = 'drive/MyDrive/SB_practical_notebooks/data/'\n",
        "#path = 'drive/MyDrive/data/'"
      ],
      "metadata": {
        "id": "1Oitdm2LUfOg"
      },
      "execution_count": null,
      "outputs": []
    },
    {
      "cell_type": "code",
      "source": [
        "!pip install biopython\n",
        "!pip install scipy\n",
        "!pip install matplotlib\n",
        "!pip install biopython"
      ],
      "metadata": {
        "colab": {
          "base_uri": "https://localhost:8080/"
        },
        "id": "rTj5aC-UUyk1",
        "outputId": "47a2e27d-07a3-4fd7-8534-d324316d27f7"
      },
      "execution_count": null,
      "outputs": [
        {
          "output_type": "stream",
          "name": "stdout",
          "text": [
            "Requirement already satisfied: biopython in /usr/local/lib/python3.7/dist-packages (1.79)\n",
            "Requirement already satisfied: numpy in /usr/local/lib/python3.7/dist-packages (from biopython) (1.21.6)\n",
            "Requirement already satisfied: scipy in /usr/local/lib/python3.7/dist-packages (1.4.1)\n",
            "Requirement already satisfied: numpy>=1.13.3 in /usr/local/lib/python3.7/dist-packages (from scipy) (1.21.6)\n",
            "Requirement already satisfied: matplotlib in /usr/local/lib/python3.7/dist-packages (3.2.2)\n",
            "Requirement already satisfied: python-dateutil>=2.1 in /usr/local/lib/python3.7/dist-packages (from matplotlib) (2.8.2)\n",
            "Requirement already satisfied: pyparsing!=2.0.4,!=2.1.2,!=2.1.6,>=2.0.1 in /usr/local/lib/python3.7/dist-packages (from matplotlib) (3.0.8)\n",
            "Requirement already satisfied: kiwisolver>=1.0.1 in /usr/local/lib/python3.7/dist-packages (from matplotlib) (1.4.2)\n",
            "Requirement already satisfied: cycler>=0.10 in /usr/local/lib/python3.7/dist-packages (from matplotlib) (0.11.0)\n",
            "Requirement already satisfied: numpy>=1.11 in /usr/local/lib/python3.7/dist-packages (from matplotlib) (1.21.6)\n",
            "Requirement already satisfied: typing-extensions in /usr/local/lib/python3.7/dist-packages (from kiwisolver>=1.0.1->matplotlib) (4.2.0)\n",
            "Requirement already satisfied: six>=1.5 in /usr/local/lib/python3.7/dist-packages (from python-dateutil>=2.1->matplotlib) (1.15.0)\n",
            "Requirement already satisfied: biopython in /usr/local/lib/python3.7/dist-packages (1.79)\n",
            "Requirement already satisfied: numpy in /usr/local/lib/python3.7/dist-packages (from biopython) (1.21.6)\n"
          ]
        }
      ]
    },
    {
      "cell_type": "code",
      "source": [
        "import numpy as np\n",
        "from Bio.PDB import PDBList, Superimposer\n",
        "from Bio.PDB.PDBParser import PDBParser"
      ],
      "metadata": {
        "id": "E5n7_oPjUzis"
      },
      "execution_count": null,
      "outputs": []
    },
    {
      "cell_type": "markdown",
      "source": [
        "Superimpose all models to the first model, fragment-by-fragment(sliding window) of a NMR intrinsically disordered structure"
      ],
      "metadata": {
        "id": "ayxZWm-5U3mA"
      }
    },
    {
      "cell_type": "code",
      "source": [
        "pdb_id = '2k0e'\n",
        "\n",
        "# Fetch a PDB file to the current dir\n",
        "pdbl = PDBList()\n",
        "pdbl.retrieve_pdb_file(pdb_id, pdir=path, file_format='pdb') # Will save to pdbXXXX.ent\n",
        "\n",
        "# Load the structure\n",
        "structure = PDBParser(QUIET=True).get_structure(pdb_id, path + \"pdb{}.ent\".format(pdb_id))\n",
        "\n",
        "# Superimpose all models to the first model, fragment-by-fragment (sliding window)\n",
        "super_imposer = Superimposer()\n",
        "structure_rmsd_fragments = []  # RMSD, Numpy array (no_models X no_fragments X fragment_size)\n",
        "window_size = 9\n",
        "ref_model = [atom for atom in structure[0].get_atoms() if atom.get_name() == \"CA\"]  # CA of the first model [0]"
      ],
      "metadata": {
        "colab": {
          "base_uri": "https://localhost:8080/"
        },
        "id": "HPT7C02RU1Bz",
        "outputId": "bc31c762-78b1-49b8-fe91-a87165fa35ed"
      },
      "execution_count": null,
      "outputs": [
        {
          "output_type": "stream",
          "name": "stdout",
          "text": [
            "Structure exists: 'drive/MyDrive/SB_practical_notebooks/data/pdb2k0e.ent' \n"
          ]
        }
      ]
    },
    {
      "cell_type": "code",
      "source": [
        "# Iterate all models\n",
        "for i, model in enumerate(structure):\n",
        "    if i > 0:\n",
        "        model_rmsd = []  # RMSD, no_fragment X fragment_size\n",
        "        alt_model = [atom for atom in model.get_atoms() if atom.get_name() == \"CA\"]  # coords of the model\n",
        "\n",
        "        # Iterate fragments\n",
        "        for start in range(len(ref_model) - window_size):\n",
        "            end = start + window_size\n",
        "            ref_fragment = ref_model[start:end]\n",
        "            alt_fragment = alt_model[start:end]\n",
        "\n",
        "            # Calculate rotation/translation matrices\n",
        "            super_imposer.set_atoms(ref_fragment, alt_fragment)\n",
        "            # print(super_imposer.rms, super_imposer.rotran)\n",
        "\n",
        "            # Rotate-translate coordinates\n",
        "            alt_fragment_coord = np.array([atom.get_coord() for atom in alt_fragment])\n",
        "            alt_fragment_coord = np.dot(super_imposer.rotran[0].T, alt_fragment_coord.T).T\n",
        "            alt_fragment_coord = alt_fragment_coord + super_imposer.rotran[1]\n",
        "\n",
        "            # Calculate RMSD\n",
        "            # https://en.wikipedia.org/wiki/Root-mean-square_deviation_of_atomic_positions\n",
        "            ref_fragment_coord = np.array([atom.get_coord() for atom in ref_fragment])\n",
        "            dist = ref_fragment_coord - alt_fragment_coord\n",
        "            # rmsd_fragment = np.sqrt(np.sum(dist * dist) / window_size)  # Total RMSD of the fragment. Identical to super_imposer.rms\n",
        "            rmsd_res = np.sqrt(np.sum(dist * dist, axis=1))  # RMSD for each residue of the fragment\n",
        "\n",
        "            model_rmsd.append(rmsd_res)\n",
        "\n",
        "        structure_rmsd_fragments.append(model_rmsd)\n",
        "\n"
      ],
      "metadata": {
        "id": "D8HdaRWOVDxB"
      },
      "execution_count": null,
      "outputs": []
    },
    {
      "cell_type": "code",
      "source": [
        "structure_rmsd_fragments = np.array(structure_rmsd_fragments)\n",
        "structure_rmsd_fragments"
      ],
      "metadata": {
        "colab": {
          "base_uri": "https://localhost:8080/"
        },
        "id": "IbKVqZgWVtwl",
        "outputId": "bc71112a-2e19-41d1-b666-ee55d35ff651"
      },
      "execution_count": null,
      "outputs": [
        {
          "output_type": "execute_result",
          "data": {
            "text/plain": [
              "array([[[ 5.37964399,  1.72985716,  1.82060651, ...,  1.89442856,\n",
              "          1.1984524 ,  1.52670937],\n",
              "        [ 1.3287223 ,  0.4035973 ,  1.22148376, ...,  0.62762375,\n",
              "          0.44381392,  0.67192986],\n",
              "        [ 0.81784585,  0.68444057,  0.51051992, ...,  0.11196707,\n",
              "          0.45306161,  0.35479716],\n",
              "        ...,\n",
              "        [ 3.27940663,  2.75634176,  4.12690453, ...,  2.00588969,\n",
              "          4.39911122,  3.11144575],\n",
              "        [ 4.58306951,  3.94331269,  2.253897  , ...,  5.32299864,\n",
              "          3.96045958,  3.78318973],\n",
              "        [ 4.5011226 ,  1.54070192,  3.20511548, ...,  5.4870849 ,\n",
              "          8.94952887, 10.14532134]],\n",
              "\n",
              "       [[ 5.77319101,  1.93267722,  2.23815712, ...,  1.85442814,\n",
              "          1.37588836,  0.25610338],\n",
              "        [ 1.47066618,  0.39360431,  1.00467571, ...,  0.74586855,\n",
              "          0.22910674,  0.49518258],\n",
              "        [ 0.70980421,  0.47609092,  0.40413568, ...,  0.11689006,\n",
              "          0.18418273,  0.28067923],\n",
              "        ...,\n",
              "        [ 5.32195091,  4.12309924,  3.43682565, ...,  4.70302033,\n",
              "          6.57874355,  5.01416247],\n",
              "        [ 4.40537885,  3.14280711,  2.31117566, ...,  7.41652978,\n",
              "          3.47600445,  5.7261556 ],\n",
              "        [ 3.93176766,  1.22513408,  3.93253636, ...,  6.00051853,\n",
              "          6.9269188 , 13.96613247]],\n",
              "\n",
              "       [[ 5.34805303,  2.05312019,  1.89335196, ...,  1.5916423 ,\n",
              "          0.78551528,  0.86683299],\n",
              "        [ 0.88026595,  0.36905889,  0.68053386, ...,  0.39497221,\n",
              "          0.44322012,  0.6151829 ],\n",
              "        [ 0.61550158,  0.34052548,  0.23058004, ...,  0.33465961,\n",
              "          0.3746581 ,  0.1154423 ],\n",
              "        ...,\n",
              "        [ 1.27711681,  1.33313389,  1.19375508, ...,  0.69154456,\n",
              "          1.41812902,  2.53775775],\n",
              "        [ 1.25117676,  1.25671462,  1.40478082, ...,  1.32309146,\n",
              "          2.8225622 ,  1.88846281],\n",
              "        [ 2.00204238,  0.99662695,  1.22732634, ...,  2.71652259,\n",
              "          2.19162192,  2.27600199]],\n",
              "\n",
              "       ...,\n",
              "\n",
              "       [[ 4.96780213,  2.37435745,  1.18693013, ...,  1.41682164,\n",
              "          0.98775104,  0.51412803],\n",
              "        [ 0.65186427,  0.24604729,  0.63764861, ...,  0.45983364,\n",
              "          0.3781883 ,  0.58852135],\n",
              "        [ 0.62635411,  0.57080879,  0.24359166, ...,  0.36336514,\n",
              "          0.33209362,  0.36109864],\n",
              "        ...,\n",
              "        [ 2.87098679,  3.08473197,  5.27981484, ...,  1.89513639,\n",
              "          4.02496338,  4.47890542],\n",
              "        [ 3.99412059,  5.57634644,  3.32352106, ...,  6.06275261,\n",
              "          4.90125934,  4.49353288],\n",
              "        [ 6.30890285,  1.81362567,  4.26341864, ...,  4.04071103,\n",
              "          9.05842485, 11.68445999]],\n",
              "\n",
              "       [[ 1.77837619,  0.67732688,  0.90401458, ...,  0.92933196,\n",
              "          0.65002666,  0.64512229],\n",
              "        [ 1.25021835,  0.56426334,  1.16098246, ...,  0.50710777,\n",
              "          0.28685468,  0.46305852],\n",
              "        [ 0.64943308,  0.66985756,  0.3731694 , ...,  0.09004237,\n",
              "          0.25609673,  0.31626687],\n",
              "        ...,\n",
              "        [ 3.99328096,  3.49040275,  1.77016977, ...,  4.07061802,\n",
              "          5.07871967,  3.38679891],\n",
              "        [ 5.02480569,  2.98975378,  1.12110714, ...,  4.90397986,\n",
              "          3.60418997,  6.30146563],\n",
              "        [ 4.03358892,  1.90352325,  0.73715635, ...,  6.64740303,\n",
              "          5.74002313,  9.05902506]],\n",
              "\n",
              "       [[ 4.90451812,  1.98948302,  1.77450614, ...,  1.06234012,\n",
              "          0.80329282,  0.98199887],\n",
              "        [ 0.51274958,  0.63397479,  0.378237  , ...,  0.05748833,\n",
              "          0.19470288,  0.2757839 ],\n",
              "        [ 0.3733023 ,  0.22370484,  0.20702344, ...,  0.32917273,\n",
              "          0.32576969,  0.1841958 ],\n",
              "        ...,\n",
              "        [ 5.3148507 ,  2.9979324 ,  3.08100555, ...,  3.97834814,\n",
              "          5.60181327,  5.0797882 ],\n",
              "        [ 3.51454285,  3.34891025,  1.72994394, ...,  5.94638979,\n",
              "          4.16782458,  2.85694555],\n",
              "        [ 4.11875507,  1.81909105,  4.0335619 , ...,  6.31301204,\n",
              "          5.40801961, 14.0737422 ]]])"
            ]
          },
          "metadata": {},
          "execution_count": 22
        }
      ]
    },
    {
      "cell_type": "code",
      "source": [
        "\n",
        "# Calculate the RMSD average for each fragments along all models\n",
        "structure_rmsd_fragments = np.average(structure_rmsd_fragments, axis=0)  # no_fragments X fragment_size\n",
        "structure_rmsd_fragments\n",
        "\n",
        "np.savetxt(path + 'structure_rmsd_fragments_1.csv', structure_rmsd_fragments, delimiter = \",\")"
      ],
      "metadata": {
        "id": "nT610HbYVHTy"
      },
      "execution_count": null,
      "outputs": []
    },
    {
      "cell_type": "code",
      "source": [
        "# Pad with right zeros to reach the sequence length (no_fragments + fragment_size)\n",
        "structure_rmsd_fragments = np.pad(structure_rmsd_fragments, ((0, 0), (0, structure_rmsd_fragments.shape[0])))\n",
        "print(structure_rmsd_fragments)\n",
        "np.savetxt(path + 'structure_rmsd_fragments_2.csv', structure_rmsd_fragments, delimiter = \",\")"
      ],
      "metadata": {
        "colab": {
          "base_uri": "https://localhost:8080/"
        },
        "id": "SVmDlKgJWdPE",
        "outputId": "9f1de4cb-28ad-451f-b6d7-4c47e38597cd"
      },
      "execution_count": null,
      "outputs": [
        {
          "output_type": "stream",
          "name": "stdout",
          "text": [
            "[[4.04653072 1.44908325 1.61631458 ... 0.         0.         0.        ]\n",
            " [1.17545726 0.64401035 0.74328906 ... 0.         0.         0.        ]\n",
            " [0.60019824 0.37954893 0.33318836 ... 0.         0.         0.        ]\n",
            " ...\n",
            " [3.66753353 2.56773599 3.25767366 ... 0.         0.         0.        ]\n",
            " [3.73294551 3.66542637 2.57363945 ... 0.         0.         0.        ]\n",
            " [4.84010086 2.02569805 3.2361159  ... 0.         0.         0.        ]]\n"
          ]
        }
      ]
    },
    {
      "cell_type": "code",
      "source": [
        "# Roll the fragments one by one (add heading zeros)\n",
        "for i, row in enumerate(structure_rmsd_fragments):\n",
        "    structure_rmsd_fragments[i] = np.roll(row, i)\n",
        "print(structure_rmsd_fragments)\n",
        "np.savetxt(path + 'structure_rmsd_fragments_3.csv', structure_rmsd_fragments, delimiter = \",\")"
      ],
      "metadata": {
        "colab": {
          "base_uri": "https://localhost:8080/"
        },
        "id": "7_Ft3LdAW-wG",
        "outputId": "4818be8f-3a5a-4d76-a6f2-0082950f6e3f"
      },
      "execution_count": null,
      "outputs": [
        {
          "output_type": "stream",
          "name": "stdout",
          "text": [
            "[[ 4.04653072  1.44908325  1.61631458 ...  0.          0.\n",
            "   0.        ]\n",
            " [ 0.          1.17545726  0.64401035 ...  0.          0.\n",
            "   0.        ]\n",
            " [ 0.          0.          0.60019824 ...  0.          0.\n",
            "   0.        ]\n",
            " ...\n",
            " [ 0.          0.          0.         ...  0.          0.\n",
            "   0.        ]\n",
            " [ 0.          0.          0.         ...  6.29615627  0.\n",
            "   0.        ]\n",
            " [ 0.          0.          0.         ...  8.40751981 11.04979497\n",
            "   0.        ]]\n"
          ]
        }
      ]
    },
    {
      "cell_type": "code",
      "source": [
        "# Calculate average along columns of overlapping fragments (average RMSD per residue)\n",
        "structure_rmsd_average = np.average(structure_rmsd_fragments, axis=0)\n",
        "\n",
        "print(np.sum(structure_rmsd_average))"
      ],
      "metadata": {
        "colab": {
          "base_uri": "https://localhost:8080/"
        },
        "id": "4MQzNZONXAy3",
        "outputId": "077f30af-5aec-444a-b2cc-c220d11b9553"
      },
      "execution_count": null,
      "outputs": [
        {
          "output_type": "stream",
          "name": "stdout",
          "text": [
            "6.219772927371118\n"
          ]
        }
      ]
    },
    {
      "cell_type": "markdown",
      "source": [
        "#Exercise\n",
        "\n",
        "Compare the RMSD calculated by-fragment with RMSD calculated aligning the complete models"
      ],
      "metadata": {
        "id": "iTMf-KKuVLvV"
      }
    },
    {
      "cell_type": "code",
      "source": [
        ""
      ],
      "metadata": {
        "id": "YzuS3tfJVKP7"
      },
      "execution_count": null,
      "outputs": []
    }
  ]
}