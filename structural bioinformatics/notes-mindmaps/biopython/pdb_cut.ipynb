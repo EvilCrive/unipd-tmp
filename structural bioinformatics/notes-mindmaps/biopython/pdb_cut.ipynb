{
  "cells": [
    {
      "cell_type": "code",
      "execution_count": 1,
      "metadata": {
        "colab": {
          "base_uri": "https://localhost:8080/",
          "height": 328
        },
        "id": "QWt0IoP99PQj",
        "outputId": "cf13aa3a-e990-4bf5-89a1-05c0cdc073bd"
      },
      "outputs": [
        {
          "ename": "ModuleNotFoundError",
          "evalue": "No module named 'google'",
          "output_type": "error",
          "traceback": [
            "\u001b[1;31m---------------------------------------------------------------------------\u001b[0m",
            "\u001b[1;31mModuleNotFoundError\u001b[0m                       Traceback (most recent call last)",
            "\u001b[1;32me:\\Users\\Alberto\\unipd\\uni_4anno_2021-22\\structural bioinformatics\\biopython\\pdb_cut.ipynb Cell 1'\u001b[0m in \u001b[0;36m<cell line: 1>\u001b[1;34m()\u001b[0m\n\u001b[1;32m----> <a href='vscode-notebook-cell:/e%3A/Users/Alberto/unipd/uni_4anno_2021-22/structural%20bioinformatics/biopython/pdb_cut.ipynb#ch0000000?line=0'>1</a>\u001b[0m \u001b[39mfrom\u001b[39;00m \u001b[39mgoogle\u001b[39;00m\u001b[39m.\u001b[39;00m\u001b[39mcolab\u001b[39;00m \u001b[39mimport\u001b[39;00m drive\n\u001b[0;32m      <a href='vscode-notebook-cell:/e%3A/Users/Alberto/unipd/uni_4anno_2021-22/structural%20bioinformatics/biopython/pdb_cut.ipynb#ch0000000?line=1'>2</a>\u001b[0m drive\u001b[39m.\u001b[39mmount(\u001b[39m'\u001b[39m\u001b[39m/content/drive/\u001b[39m\u001b[39m'\u001b[39m)\n",
            "\u001b[1;31mModuleNotFoundError\u001b[0m: No module named 'google'"
          ]
        }
      ],
      "source": [
        "from google.colab import drive\n",
        "drive.mount('/content/drive/')"
      ]
    },
    {
      "cell_type": "code",
      "execution_count": null,
      "metadata": {
        "id": "PlxyPbXlDUvl"
      },
      "outputs": [],
      "source": [
        "#Set path\n",
        "path = 'drive/MyDrive/SB_practical_notebooks/data/'\n",
        "#path = 'drive/MyDrive/data/'"
      ]
    },
    {
      "cell_type": "code",
      "execution_count": null,
      "metadata": {
        "colab": {
          "base_uri": "https://localhost:8080/"
        },
        "id": "3YTgK5Kd_f3k",
        "outputId": "08c519cf-2153-4c0e-b337-3544b1aa638c"
      },
      "outputs": [
        {
          "name": "stdout",
          "output_type": "stream",
          "text": [
            "Collecting biopython\n",
            "  Downloading biopython-1.79-cp37-cp37m-manylinux_2_5_x86_64.manylinux1_x86_64.whl (2.3 MB)\n",
            "\u001b[K     |████████████████████████████████| 2.3 MB 5.3 MB/s \n",
            "\u001b[?25hRequirement already satisfied: numpy in /usr/local/lib/python3.7/dist-packages (from biopython) (1.21.5)\n",
            "Installing collected packages: biopython\n",
            "Successfully installed biopython-1.79\n"
          ]
        }
      ],
      "source": [
        "!pip install biopython"
      ]
    },
    {
      "cell_type": "code",
      "execution_count": null,
      "metadata": {
        "id": "-_8soRx59lMV"
      },
      "outputs": [],
      "source": [
        "'''\n",
        "Basic parsing and iteration of Structure objects implemented by the BIO module of BioPython\n",
        "Save selected residues into a new PDB file\n",
        "Generate distance matrix\n",
        "\n",
        "Bio.PDB module FAQ\n",
        "https://biopython.org/wiki/The_Biopython_Structural_Bioinformatics_FAQ\n",
        "'''\n",
        "\n",
        "from Bio.PDB import PDBList, is_aa, PDBIO\n",
        "from Bio.PDB.PDBParser import PDBParser\n",
        "from Bio.SeqUtils import IUPACData\n",
        "from Bio.PDB.PDBIO import Select\n",
        "from Bio.SeqIO.PdbIO import PdbSeqresIterator\n"
      ]
    },
    {
      "cell_type": "code",
      "execution_count": null,
      "metadata": {
        "id": "GLY52f8D9472"
      },
      "outputs": [],
      "source": [
        "\n",
        "# Input\n",
        "pdb_id = '1cu4'\n",
        "#pdb_id = '1byi'\n",
        "#pdb_id = '3k8y'\n",
        "#pdb_id = '1nww'\n"
      ]
    },
    {
      "cell_type": "code",
      "execution_count": null,
      "metadata": {
        "colab": {
          "base_uri": "https://localhost:8080/",
          "height": 53
        },
        "id": "XPGPQoSU45E8",
        "outputId": "a29a227d-53fc-4ea5-f3b6-883bf7fae8fd"
      },
      "outputs": [
        {
          "name": "stdout",
          "output_type": "stream",
          "text": [
            "Structure exists: 'drive/MyDrive/SB_practical_notebooks/data/pdb1cu4.ent' \n"
          ]
        },
        {
          "data": {
            "application/vnd.google.colaboratory.intrinsic+json": {
              "type": "string"
            },
            "text/plain": [
              "'drive/MyDrive/SB_practical_notebooks/data/pdb1cu4.ent'"
            ]
          },
          "execution_count": 36,
          "metadata": {},
          "output_type": "execute_result"
        }
      ],
      "source": [
        "# Fetch a PDB file from the website to the current dir  - How to download structures from the PDB?\n",
        "pdbl = PDBList()\n",
        "pdbl.retrieve_pdb_file(pdb_id, pdir=path, file_format='pdb')  # Will save to pdbXXXX.en"
      ]
    },
    {
      "cell_type": "code",
      "execution_count": null,
      "metadata": {
        "colab": {
          "base_uri": "https://localhost:8080/"
        },
        "id": "DLgfSgtJ41h2",
        "outputId": "475239b9-c8ba-4ee3-8b41-e48224a9187f"
      },
      "outputs": [
        {
          "name": "stdout",
          "output_type": "stream",
          "text": [
            "ID: 2HHB:A\n",
            "Name: 2HHB:A\n",
            "Description: UNP:P01922 HBA_HUMAN\n",
            "Database cross-references: UNP:P01922, UNP:HBA_HUMAN\n",
            "Number of features: 0\n",
            "/chain=A\n",
            "/molecule_type=protein\n",
            "Seq('VLSPADKTNVKAAWGKVGAHAGEYGAEALERMFLSFPTTKTYFPHFDLSHGSAQ...KYR')\n",
            "ID: 2HHB:B\n",
            "Name: 2HHB:B\n",
            "Description: UNP:P02023 HBB_HUMAN\n",
            "Database cross-references: UNP:P02023, UNP:HBB_HUMAN\n",
            "Number of features: 0\n",
            "/chain=B\n",
            "/molecule_type=protein\n",
            "Seq('VHLTPEEKSAVTALWGKVNVDEVGGEALGRLLVVYPWTQRFFESFGDLSTPDAV...KYH')\n",
            "ID: 2HHB:C\n",
            "Name: 2HHB:C\n",
            "Description: UNP:P01922 HBA_HUMAN\n",
            "Database cross-references: UNP:P01922, UNP:HBA_HUMAN\n",
            "Number of features: 0\n",
            "/chain=C\n",
            "/molecule_type=protein\n",
            "Seq('VLSPADKTNVKAAWGKVGAHAGEYGAEALERMFLSFPTTKTYFPHFDLSHGSAQ...KYR')\n",
            "ID: 2HHB:D\n",
            "Name: 2HHB:D\n",
            "Description: UNP:P02023 HBB_HUMAN\n",
            "Database cross-references: UNP:P02023, UNP:HBB_HUMAN\n",
            "Number of features: 0\n",
            "/chain=D\n",
            "/molecule_type=protein\n",
            "Seq('VHLTPEEKSAVTALWGKVNVDEVGGEALGRLLVVYPWTQRFFESFGDLSTPDAV...KYH')\n"
          ]
        }
      ],
      "source": [
        "# Get the SEQRES by using SeqIO\n",
        "#it identifies all SEQRES in the PDB and iterates for each chain (in caso of multi-chain structures)\n",
        "with open(path + \"pdb{}.ent\".format(pdb_id)) as f:\n",
        " seq_records = (PdbSeqresIterator(f))\n",
        " for seq_record in seq_records:\n",
        "  print(seq_record)\n"
      ]
    },
    {
      "cell_type": "code",
      "execution_count": null,
      "metadata": {
        "colab": {
          "base_uri": "https://localhost:8080/"
        },
        "id": "AuTRlmi3-CBG",
        "outputId": "e1088c6a-3a3b-4a28-cb65-869a85b9439e"
      },
      "outputs": [
        {
          "name": "stdout",
          "output_type": "stream",
          "text": [
            "model 0 chain L residue_id ('W', 215, ' ') resname HOH resname_3to1 None\n",
            "model 0 chain L residue_id ('W', 216, ' ') resname HOH resname_3to1 None\n",
            "model 0 chain L residue_id ('W', 217, ' ') resname HOH resname_3to1 None\n",
            "model 0 chain H residue_id ('W', 214, ' ') resname HOH resname_3to1 None\n",
            "model 0 chain H residue_id ('W', 215, ' ') resname HOH resname_3to1 None\n",
            "model 0 chain H residue_id ('W', 216, ' ') resname HOH resname_3to1 None\n",
            "model 0 chain H residue_id ('W', 217, ' ') resname HOH resname_3to1 None\n",
            "model 0 chain H residue_id ('W', 218, ' ') resname HOH resname_3to1 None\n",
            "model 0 chain P residue_id ('W', 2, ' ') resname HOH resname_3to1 None\n"
          ]
        }
      ],
      "source": [
        "# Load the structure\n",
        "structure = PDBParser(QUIET=True).get_structure(pdb_id, path + \"pdb{}.ent\".format(pdb_id))\n",
        "\n",
        "# Iterate structure\n",
        "\n",
        "#is_aa function check whether the residue is an amino acid or not (modifies residues, HETATM, ligands, Ions, etc)\n",
        "#IUPAC Data is a package to conver from 3 residue names to one letter residue name\n",
        "for model in structure:\n",
        "    for chain in model:\n",
        "        for residue in chain:\n",
        "            if not is_aa(residue):  \n",
        "              \n",
        "              # Filter hetero groups (returns only amino acids)\n",
        "                #residue.id tuples (unique IDs) that contains hetero_flag, position (residue index), insertion_code \n",
        "\n",
        "                print(\"model {} chain {} residue_id {} resname {} resname_3to1 {}\".format(model.id, chain.id, residue.id, residue.get_resname(),\n",
        "                                                        IUPACData.protein_letters_3to1.get(residue.get_resname().capitalize())))\n",
        "#                 for atom in residue:\n",
        " #                    print(\"atom {} {} {}\".format(atom.id, atom.get_bfactor(), atom.get_coord()))\n",
        "                #pass\n",
        "#            else:\n",
        "#                print(residue.id)\n"
      ]
    },
    {
      "cell_type": "code",
      "execution_count": null,
      "metadata": {
        "colab": {
          "base_uri": "https://localhost:8080/"
        },
        "id": "4MDXf6uI-Fue",
        "outputId": "b79a46bb-1b54-442b-dcab-aad2c013fc45"
      },
      "outputs": [
        {
          "name": "stdout",
          "output_type": "stream",
          "text": [
            "[<Residue SER het=  resseq=10 icode= >, <Residue LEU het=  resseq=11 icode= >, <Residue SER het=  resseq=12 icode= >, <Residue VAL het=  resseq=13 icode= >, <Residue THR het=  resseq=14 icode= >, <Residue ILE het=  resseq=15 icode= >, <Residue GLY het=  resseq=16 icode= >, <Residue GLN het=  resseq=17 icode= >, <Residue PRO het=  resseq=18 icode= >, <Residue ALA het=  resseq=19 icode= >, <Residue SER het=  resseq=20 icode= >, <Residue ILE het=  resseq=21 icode= >, <Residue SER het=  resseq=22 icode= >, <Residue CYS het=  resseq=23 icode= >, <Residue LYS het=  resseq=24 icode= >, <Residue SER het=  resseq=25 icode= >, <Residue SER het=  resseq=26 icode= >, <Residue GLN het=  resseq=27 icode= >, <Residue SER het=  resseq=27 icode=A>, <Residue LEU het=  resseq=27 icode=B>, <Residue LEU het=  resseq=27 icode=C>, <Residue ASP het=  resseq=27 icode=D>, <Residue SER het=  resseq=27 icode=E>, <Residue ASP het=  resseq=28 icode= >, <Residue GLY het=  resseq=29 icode= >, <Residue LYS het=  resseq=30 icode= >, <Residue THR het=  resseq=31 icode= >, <Residue TYR het=  resseq=32 icode= >, <Residue LEU het=  resseq=33 icode= >, <Residue ILE het=  resseq=34 icode= >, <Residue TRP het=  resseq=35 icode= >, <Residue VAL het=  resseq=36 icode= >, <Residue PHE het=  resseq=37 icode= >, <Residue GLN het=  resseq=38 icode= >, <Residue ARG het=  resseq=39 icode= >, <Residue PRO het=  resseq=40 icode= >, <Residue GLY het=  resseq=41 icode= >, <Residue GLN het=  resseq=42 icode= >, <Residue SER het=  resseq=43 icode= >, <Residue PRO het=  resseq=44 icode= >, <Residue LYS het=  resseq=45 icode= >, <Residue ARG het=  resseq=46 icode= >, <Residue LEU het=  resseq=47 icode= >, <Residue ILE het=  resseq=48 icode= >, <Residue PHE het=  resseq=49 icode= >, <Residue LEU het=  resseq=50 icode= >, <Residue VAL het=  resseq=51 icode= >, <Residue SER het=  resseq=52 icode= >, <Residue LYS het=  resseq=53 icode= >, <Residue ARG het=  resseq=54 icode= >, <Residue ASP het=  resseq=55 icode= >, <Residue SER het=  resseq=56 icode= >, <Residue GLY het=  resseq=57 icode= >, <Residue VAL het=  resseq=58 icode= >, <Residue PRO het=  resseq=59 icode= >, <Residue ASP het=  resseq=60 icode= >, <Residue ARG het=  resseq=61 icode= >, <Residue PHE het=  resseq=62 icode= >, <Residue THR het=  resseq=63 icode= >, <Residue GLY het=  resseq=64 icode= >, <Residue SER het=  resseq=65 icode= >, <Residue GLY het=  resseq=66 icode= >, <Residue SER het=  resseq=67 icode= >, <Residue GLY het=  resseq=68 icode= >, <Residue THR het=  resseq=69 icode= >, <Residue ASP het=  resseq=70 icode= >, <Residue PHE het=  resseq=71 icode= >, <Residue THR het=  resseq=72 icode= >, <Residue LEU het=  resseq=73 icode= >, <Residue LYS het=  resseq=74 icode= >, <Residue ILE het=  resseq=75 icode= >, <Residue SER het=  resseq=76 icode= >, <Residue ARG het=  resseq=77 icode= >, <Residue VAL het=  resseq=78 icode= >, <Residue GLU het=  resseq=79 icode= >, <Residue ALA het=  resseq=80 icode= >, <Residue GLU het=  resseq=81 icode= >, <Residue ASP het=  resseq=82 icode= >, <Residue VAL het=  resseq=83 icode= >, <Residue GLY het=  resseq=84 icode= >, <Residue VAL het=  resseq=85 icode= >, <Residue TYR het=  resseq=86 icode= >, <Residue TYR het=  resseq=87 icode= >, <Residue CYS het=  resseq=88 icode= >, <Residue TRP het=  resseq=89 icode= >, <Residue GLN het=  resseq=90 icode= >, <Residue GLY het=  resseq=91 icode= >, <Residue THR het=  resseq=92 icode= >, <Residue HIS het=  resseq=93 icode= >, <Residue PHE het=  resseq=94 icode= >, <Residue PRO het=  resseq=95 icode= >, <Residue HIS het=  resseq=95 icode=A>, <Residue THR het=  resseq=96 icode= >, <Residue VAL het=  resseq=97 icode= >, <Residue GLY het=  resseq=99 icode= >, <Residue GLY het=  resseq=100 icode= >]\n"
          ]
        }
      ],
      "source": [
        "# Extract a list of residues between start and end positions excluding hetero and water atoms\n",
        "# It assumes there are not insertion codes and residues numbers are not necessarily continuous\n",
        "# Utility: domain / key regions identification and extraction\n",
        "\n",
        "domain_residues = []\n",
        "start_flag = False\n",
        "domain_start = (\" \", 10, \" \")\n",
        "domain_end = (\" \", 100, \" \")\n",
        "for residue in structure[0]['L'].get_residues():  # Model 0, chain L\n",
        "    if residue.id[0] == \" \":  \n",
        "      # Exclude hetero and water atoms\n",
        "        # print(residue.id)\n",
        "        # Get starting position, a piori I don't know where is the first residue\n",
        "        if residue.id == domain_start:\n",
        "            start_flag = True\n",
        "\n",
        "        if start_flag:\n",
        "            domain_residues.append(residue)\n",
        "            #print(residue.id)\n",
        "\n",
        "        # Get ending position\n",
        "        if residue.id == domain_end:\n",
        "            break\n",
        "\n",
        "print(domain_residues)"
      ]
    },
    {
      "cell_type": "code",
      "execution_count": null,
      "metadata": {
        "id": "PZBd9ixQ-Ixf"
      },
      "outputs": [],
      "source": [
        "# Save a PDB chain\n",
        "class Select(Select):\n",
        "    def __init__(self, chain_ids=None, residues=None):\n",
        "        self.chain_ids = chain_ids\n",
        "        self.residues = residues\n",
        "\n",
        "    def accept_chain(self, chain):\n",
        "        return self.chain_ids is None or chain.id in self.chain_ids\n",
        "\n",
        "    def accept_residue(self, residue):\n",
        "        return self.residues is None or residue in self.residues\n",
        "\n",
        "    def accept_atom(self, atom):\n",
        "        return not atom.is_disordered() or atom.get_altloc() == \"A\"\n",
        "\n"
      ]
    },
    {
      "cell_type": "code",
      "execution_count": null,
      "metadata": {
        "id": "ryfeGAbR-Ln2"
      },
      "outputs": [],
      "source": [
        "# Save a PDB file containing only a list of selected residues\n",
        "io = PDBIO()\n",
        "io.set_structure(structure[0])\n",
        "io.save(path + \"pdb{}_cut.ent\".format(pdb_id), select=Select(residues=domain_residues))"
      ]
    },
    {
      "cell_type": "markdown",
      "metadata": {
        "id": "DJHlwymBHWRy"
      },
      "source": [
        "\n",
        "# Exercises\n",
        "## Fetch 1CU4\n",
        "## Fetch 2KKW\n",
        "\n",
        "1.   How many chains?\n",
        "2.   Total number of hetero atoms?\n",
        "3. Total number of water molecules?\n",
        "4. Which is the index of the last residue of chain H?\n",
        "5. Total number of residues?\n",
        "6. Why the total number of residues is different from the last index?\n",
        "Split PDB 2KKW into different files, one file per model. (Need to write a new \"Select\" class for picking models)"
      ]
    },
    {
      "cell_type": "code",
      "execution_count": null,
      "metadata": {
        "colab": {
          "base_uri": "https://localhost:8080/"
        },
        "id": "qts_KhNf7Oiq",
        "outputId": "a944bd06-255a-4ba7-f0cc-37e74afb51cb"
      },
      "outputs": [
        {
          "name": "stdout",
          "output_type": "stream",
          "text": [
            "Structure exists: 'drive/MyDrive/SB_practical_notebooks/data/pdb1cu4.ent' \n"
          ]
        }
      ],
      "source": [
        "pdb_id = '1cu4'\n",
        "pdbl = PDBList()\n",
        "pdbl.retrieve_pdb_file(pdb_id, pdir=path, file_format='pdb')  # Will save to pdbXXXX.ent\n",
        "structure = PDBParser(QUIET=True).get_structure(pdb_id, path + \"pdb{}.ent\".format(pdb_id))"
      ]
    },
    {
      "cell_type": "code",
      "execution_count": null,
      "metadata": {
        "colab": {
          "base_uri": "https://localhost:8080/"
        },
        "id": "WmU6tXNdH6p2",
        "outputId": "4c27884a-3df4-47d7-88ca-c008d3cc3fe7"
      },
      "outputs": [
        {
          "name": "stdout",
          "output_type": "stream",
          "text": [
            "chains 3\n"
          ]
        }
      ],
      "source": [
        "#Exercise 1\n",
        "print(\"chains\", len(structure[0]))"
      ]
    },
    {
      "cell_type": "code",
      "execution_count": null,
      "metadata": {
        "colab": {
          "base_uri": "https://localhost:8080/"
        },
        "id": "6b5aeepVICnZ",
        "outputId": "226d0dc3-10e4-4bcd-f690-3c814d52e679"
      },
      "outputs": [
        {
          "name": "stdout",
          "output_type": "stream",
          "text": [
            "hetero atoms 9\n"
          ]
        }
      ],
      "source": [
        "#Exercise 2\n",
        "print(\"hetero atoms\", sum([1 for chain in structure[0] for residue in chain if residue.id[0] != ' ' for atom in residue]))"
      ]
    },
    {
      "cell_type": "code",
      "execution_count": null,
      "metadata": {
        "colab": {
          "base_uri": "https://localhost:8080/"
        },
        "id": "g9B2uvy0ICzM",
        "outputId": "7cd09e03-26af-43d4-e194-dad805a8bcc4"
      },
      "outputs": [
        {
          "name": "stdout",
          "output_type": "stream",
          "text": [
            "water molecules 9\n"
          ]
        }
      ],
      "source": [
        "#Exercise 3\n",
        "print(\"water molecules\", sum([1 for chain in structure[0] for residue in chain if residue.id[0] == 'W']))"
      ]
    },
    {
      "cell_type": "code",
      "execution_count": null,
      "metadata": {
        "colab": {
          "base_uri": "https://localhost:8080/"
        },
        "id": "iIcY4OrvIFPr",
        "outputId": "6aae45db-33c8-45ed-e326-6cb80a7e3de4"
      },
      "outputs": [
        {
          "name": "stdout",
          "output_type": "stream",
          "text": [
            "last residue of chain H (' ', 213, ' ')\n"
          ]
        }
      ],
      "source": [
        "#Exercise 4\n",
        "print(\"last residue of chain H\", [residue.id for residue in structure[0]['H'] if residue.id[0] == ' '][-1])\n"
      ]
    },
    {
      "cell_type": "code",
      "execution_count": null,
      "metadata": {
        "colab": {
          "base_uri": "https://localhost:8080/"
        },
        "id": "8ns8fe_CIFaD",
        "outputId": "c4702e43-05ab-44c0-bbb6-5d1e4f0e3330"
      },
      "outputs": [
        {
          "name": "stdout",
          "output_type": "stream",
          "text": [
            "total elements in chain H 220\n",
            "total residues in chain H 215\n"
          ]
        }
      ],
      "source": [
        "#Exercise 5\n",
        "print(\"total elements in chain H\", len(structure[0]['H']))\n",
        "print(\"total residues in chain H\", len([residue for residue in structure[0]['H'] if is_aa(residue)]))"
      ]
    },
    {
      "cell_type": "code",
      "execution_count": null,
      "metadata": {
        "colab": {
          "base_uri": "https://localhost:8080/"
        },
        "id": "LiMKm-uPIF2t",
        "outputId": "c16698ff-ec15-4a6e-bfec-74830ae20205"
      },
      "outputs": [
        {
          "name": "stdout",
          "output_type": "stream",
          "text": [
            "some elements are not standard residues [('W', 214, ' '), ('W', 215, ' '), ('W', 216, ' '), ('W', 217, ' '), ('W', 218, ' ')]\n",
            "some elements are water molecules [('W', 214, ' '), ('W', 215, ' '), ('W', 216, ' '), ('W', 217, ' '), ('W', 218, ' ')]\n",
            "some residues have insertion codes [(' ', 52, 'A'), (' ', 82, 'A'), (' ', 82, 'B'), (' ', 82, 'C')]\n"
          ]
        }
      ],
      "source": [
        "#Exercise 6\n",
        "print(\"some elements are not standard residues\", [residue.id for residue in structure[0]['H'] if not is_aa(residue)])\n",
        "print(\"some elements are water molecules\", [residue.id for residue in structure[0]['H'] if residue.id[0] != ' '])\n",
        "print(\"some residues have insertion codes\", [residue.id for residue in structure[0]['H'] if residue.id[2] != ' '])"
      ]
    },
    {
      "cell_type": "code",
      "execution_count": null,
      "metadata": {
        "colab": {
          "base_uri": "https://localhost:8080/"
        },
        "id": "yBkE9vQc7f3L",
        "outputId": "ec3e2671-9345-4352-a34c-054bcb2ba228"
      },
      "outputs": [
        {
          "name": "stdout",
          "output_type": "stream",
          "text": [
            "Downloading PDB structure '2kkw'...\n"
          ]
        }
      ],
      "source": [
        "# Define the model select class\n",
        "class ModelSelect(Select):\n",
        "    \"\"\"\n",
        "    Select model for BioPython PDB save\n",
        "    \"\"\"\n",
        "    def __init__(self, model_ids):\n",
        "        self.model_ids = model_ids\n",
        "\n",
        "    def accept_model(self, model):\n",
        "        return (model.serial_num) in self.model_ids\n",
        "\n",
        "\n",
        "# Fetch 2KKW\n",
        "pdb_id = '2kkw'\n",
        "pdbl = PDBList()\n",
        "pdbl.retrieve_pdb_file(pdb_id, pdir=path, file_format='pdb')  # Will save to pdbXXXX.ent\n",
        "structure = PDBParser(QUIET=True).get_structure(pdb_id, path + \"pdb{}.ent\".format(pdb_id))\n",
        "\n",
        "# Save models\n",
        "io = PDBIO()\n",
        "io.set_structure(structure)\n",
        "for model_index, model in enumerate(structure):\n",
        "    io.save(path + \"pdb{}_{}.ent\".format(pdb_id, model_index + 1), select=ModelSelect([model_index + 1]))\n"
      ]
    }
  ],
  "metadata": {
    "colab": {
      "collapsed_sections": [],
      "name": "Copia di pdb_cut.ipynb",
      "provenance": []
    },
    "kernelspec": {
      "display_name": "Python 3",
      "name": "python3"
    },
    "language_info": {
      "codemirror_mode": {
        "name": "ipython",
        "version": 3
      },
      "file_extension": ".py",
      "mimetype": "text/x-python",
      "name": "python",
      "nbconvert_exporter": "python",
      "pygments_lexer": "ipython3",
      "version": "3.10.4"
    }
  },
  "nbformat": 4,
  "nbformat_minor": 0
}
